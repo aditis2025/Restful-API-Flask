{
  "nbformat": 4,
  "nbformat_minor": 0,
  "metadata": {
    "colab": {
      "provenance": []
    },
    "kernelspec": {
      "name": "python3",
      "display_name": "Python 3"
    },
    "language_info": {
      "name": "python"
    }
  },
  "cells": [
    {
      "cell_type": "code",
      "execution_count": null,
      "metadata": {
        "id": "8v-8kZPucpW9"
      },
      "outputs": [],
      "source": [
        "#Q1  What is a RESTful API?\n",
        "#    A RESTful API is a type of web service that follows the principles of REST (Representational State Transfer) architecture. It allows communication between client and server using HTTP methods."
      ]
    },
    {
      "cell_type": "code",
      "source": [
        "#Q2 Explain the concept of API specification.\n",
        "#   An API specification is a detailed document that defines how an API should behave, including its endpoints, request/response formats, authentication, and other technical details.\n",
        "#   It serves as a contract between the API provider and consumers, ensuring consistency and interoperability."
      ],
      "metadata": {
        "id": "ou1_wNFodIyA"
      },
      "execution_count": null,
      "outputs": []
    },
    {
      "cell_type": "code",
      "source": [
        "#Q3 What is Flask, and why is it popular for building APIs?\n",
        "#   Flask is a lightweight and flexible Python web framework used for building web applications and APIs. It follows the WSGI (Web Server Gateway Interface) standard and does not enforce any particular project structure, making it highly customizable.\n",
        "#   Flask is Popular for Building APIs because it has a simple syntax, making it beginner-friendly and perfect for rapid development. Unlike Django, Flask doesn’t come with built-in features like ORM or authentication, making it easier to use for small, fast APIs.\n",
        "#   You can add extensions like Flask-RESTful, Flask-SQLAlchemy, and Flask-JWT for advanced functionality."
      ],
      "metadata": {
        "id": "GtijE2E3dTVY"
      },
      "execution_count": null,
      "outputs": []
    },
    {
      "cell_type": "code",
      "source": [
        "#Q4 What is routing in Flask?\n",
        "#   Routing in Flask refers to mapping URLs (endpoints) to specific functions that handle requests. When a user visits a URL, Flask determines which function to execute based on the route defined."
      ],
      "metadata": {
        "id": "i4J64RzPdtPd"
      },
      "execution_count": null,
      "outputs": []
    },
    {
      "cell_type": "code",
      "source": [
        "#Q5 How do you create a simple Flask application?\n",
        "#   Flask makes it easy to create web applications and APIs with minimal code. Below is a step-by-step guide to setting up a basic Flask app.\n",
        "#   Step 1: Install Flask\n",
        "#   Step 2: Create a Flask App\n",
        "#   Step 3: Run the Flask Application\n",
        "#   Step 4: Test Your App\n",
        "#   Step 5: Returning JSON Responses\n",
        "#   Step 6: Handling POST Requests"
      ],
      "metadata": {
        "id": "SigyU-1af7S4"
      },
      "execution_count": null,
      "outputs": []
    },
    {
      "cell_type": "code",
      "source": [
        "#Q6 What are HTTP methods used in RESTful APIs?\n",
        "#  RESTful APIs use HTTP methods to define actions on resources.\n",
        "#  GET used to fetch data from the server.\n",
        "#  POST used to send data to the server and create a new resource.\n",
        "#  PUT used to replace an entire resource\n",
        "#  PATCH used to update specific fields of a resource.\n",
        "#  DELETE remove a resource"
      ],
      "metadata": {
        "id": "6ViDiyNog3UU"
      },
      "execution_count": null,
      "outputs": []
    },
    {
      "cell_type": "code",
      "source": [
        "#Q7 What is the purpose of the @app.route() decorator in Flask?\n",
        "#   The @app.route() decorator in Flask is used to define URL routes for your web application. It maps a URL path to a specific function that executes when the route is accessed."
      ],
      "metadata": {
        "id": "gJwcucE0hiA_"
      },
      "execution_count": null,
      "outputs": []
    },
    {
      "cell_type": "code",
      "source": [
        "#Q8 What is the difference between GET and POST HTTP methods?\n",
        "#   GET is used to retrieve data from the server, while POST is used to send data to the server to create or update a resource\n",
        "#   GET requests can be cached and are idempotent (repeated requests return the same result), whereas POST requests cannot be cached and are not idempotent.\n",
        "#   GET is typically used for fetching information, like GET /users/1, while POST is used for submitting forms or creating new resources, like POST /users."
      ],
      "metadata": {
        "id": "vAIVGyXQh_1m"
      },
      "execution_count": null,
      "outputs": []
    },
    {
      "cell_type": "code",
      "source": [
        "#Q9 How do you handle errors in Flask APIs?\n",
        "#   In Flask APIs, errors are handled using abort(), custom error handlers, and try-except blocks.\n",
        "#     abort(status_code) → Stops execution and returns an HTTP error (e.g., abort(404)).\n",
        "#     @app.errorhandler(error_code) → Customizes error responses (e.g., @app.errorhandler(404)).\n",
        "#     try-except → Catches exceptions like division by zero or invalid data.\n",
        "#     Return proper HTTP status codes (e.g., return jsonify({\"message\": \"Created\"}), 201)."
      ],
      "metadata": {
        "id": "bic3WCpqiggF"
      },
      "execution_count": null,
      "outputs": []
    },
    {
      "cell_type": "code",
      "source": [
        "#Q10 How do you connect Flask to a SQL database?\n",
        "#    To connect Flask to a SQL database, use Flask-SQLAlchemy, an ORM (Object-Relational Mapper) for Flask.\n",
        "#     1. Install Flask-SQLAlchemy\n",
        "#     2. Set Up Database in Flask\n",
        "#     3. Define a Model (Table)\n",
        "#     4. Create the Database\n",
        "#     5. Add and Retrieve Data"
      ],
      "metadata": {
        "id": "ecmVTfiki4Zv"
      },
      "execution_count": null,
      "outputs": []
    },
    {
      "cell_type": "code",
      "source": [
        "#Q11 What is the role of Flask-SQLAlchemy?\n",
        "#    Flask-SQLAlchemy is an extension for Flask that simplifies working with SQL databases using an Object-Relational Mapper (ORM).\n",
        "#   Manages database connections seamlessly within Flask.\n",
        "#   Provides an ORM to interact with the database using Python classes instead of raw SQL.\n",
        "#   Handles migrations and schema creation easily.\n",
        "#   Supports multiple databases like SQLite, PostgreSQL, and MySQL."
      ],
      "metadata": {
        "id": "9YjTlYN3jel5"
      },
      "execution_count": null,
      "outputs": []
    },
    {
      "cell_type": "code",
      "source": [
        "#Q12  What are Flask blueprints, and how are they useful?\n",
        "#    Flask Blueprints are a way to organize a Flask app into smaller, reusable modules. Instead of writing all routes in a single file, Blueprints allow you to split the app into multiple files for better structure and maintainability.\n",
        "#    Blueprints keeps Code Organized, encourages Reusability, easier Collaboration, implifies API Development(Useful for building modular APIs)."
      ],
      "metadata": {
        "id": "To6InY7Nj2Kq"
      },
      "execution_count": null,
      "outputs": []
    },
    {
      "cell_type": "code",
      "source": [
        "#Q13 What is the purpose of Flask's request object?\n",
        "#    Flask's request object is used to access data sent by the client in an HTTP request. It allows you to handle:\n",
        "#     Form data, JSON data, URL parameters (query strings), Headers and cookies, File uploads"
      ],
      "metadata": {
        "id": "1RVg83O1ktBd"
      },
      "execution_count": null,
      "outputs": []
    },
    {
      "cell_type": "code",
      "source": [
        "#Q14 How do you create a RESTful API endpoint using Flask?\n",
        "#    create a RESTful API endpoint in Flask, follow these steps:\n",
        "#    Import Flask and Flask's jsonify\n",
        "#    Create a Flask app\n",
        "#    Use jsonify() to return JSON responses\n",
        "#    Define a route with HTTP methods (GET, POST, etc.)\n",
        "#    Run the app"
      ],
      "metadata": {
        "id": "gKv6lDLClASW"
      },
      "execution_count": null,
      "outputs": []
    },
    {
      "cell_type": "code",
      "source": [
        "#Q15 What is the purpose of Flask's jsonify() function?\n",
        "#    Flask's jsonify() function is used to convert Python dictionaries (or lists) into JSON responses for APIs. It automatically sets the correct Content-Type (application/json) in the HTTP response."
      ],
      "metadata": {
        "id": "sJ6Q9fPSlsrP"
      },
      "execution_count": null,
      "outputs": []
    },
    {
      "cell_type": "code",
      "source": [
        "#Q16 Explain Flask’s url_for() function.\n",
        "#    Flask's url_for() function is used to dynamically generate URLs for routes in a Flask application. Instead of hardcoding URLs, url_for() ensures that URLs are correctly built based on the function names of defined routes."
      ],
      "metadata": {
        "id": "occNpCazl6QX"
      },
      "execution_count": null,
      "outputs": []
    },
    {
      "cell_type": "code",
      "source": [
        "#Q17 How does Flask handle static files (CSS, JavaScript, etc.)?\n",
        "#    Flask serves static files (like CSS, JavaScript, images) from a dedicated static/ folder in the project directory. These files can be accessed using the url_for('static', filename='file_path') function."
      ],
      "metadata": {
        "id": "QfhXGYb0qqG4"
      },
      "execution_count": null,
      "outputs": []
    },
    {
      "cell_type": "code",
      "source": [
        "#Q18 What is an API specification, and how does it help in building a Flask API?\n",
        "#    An API specification is a detailed document that defines how an API should work, including endpoints, request/response formats, authentication, and status codes. It acts as a blueprint for building and consuming an API."
      ],
      "metadata": {
        "id": "1hyOiJJLtaFp"
      },
      "execution_count": null,
      "outputs": []
    },
    {
      "cell_type": "code",
      "source": [
        "#Q19 What are HTTP status codes, and why are they important in a Flask API?\n",
        "#    HTTP status codes are standard response codes that indicate the result of a client’s request to a server. They help in understanding success, failure, or errors in a Flask API response.\n",
        "#    They are important because they indicate request success or failure, Help clients handle errors properly, Improve API debugging and logging, Enhance communication between client and server."
      ],
      "metadata": {
        "id": "QscZ2ET6tZno"
      },
      "execution_count": null,
      "outputs": []
    },
    {
      "cell_type": "code",
      "source": [
        "#Q20 How do you handle POST requests in Flask?\n",
        "#    Flask handles POST requests using the @app.route() decorator with methods=['POST']. Data from the client can be accessed using request.form (for form data) or request.json (for JSON data)."
      ],
      "metadata": {
        "id": "W_2qxWzLuF5x"
      },
      "execution_count": null,
      "outputs": []
    },
    {
      "cell_type": "code",
      "source": [
        "#Q21 How would you secure a Flask API?\n",
        "#    Securing a Flask API is crucial to prevent unauthorized access, data leaks, and attacks.\n",
        "#    Use Authentication & Authorization – Implement JWT (JSON Web Tokens) or OAuth 2.0 to restrict access\n",
        "#    Enable HTTPS (SSL/TLS) – Encrypt API communication to prevent data interception.\n",
        "#    Protect Against CSRF Attacks – Use CSRF tokens or implement CORS properly.\n",
        "#    Secure API Keys & Secrets – Store secrets in environment variables (.env files), not in code."
      ],
      "metadata": {
        "id": "mAlridOnuNu2"
      },
      "execution_count": null,
      "outputs": []
    },
    {
      "cell_type": "code",
      "source": [
        "#Q22 What is the significance of the Flask-RESTful extension?\n",
        "#    Flask-RESTful is an extension for Flask that simplifies the process of building RESTful APIs by providing:\n",
        "#   1 Class-Based Views (Resource) - Organizes API logic using object-oriented programming.\n",
        "#   2 Automatic Request Parsing (reqparse) - Handles request data validation.\n",
        "#   3 Built-in Error Handling - Returns standardized error responses.\n",
        "#   4 Easy Serialization (marshal) - Formats API responses efficiently."
      ],
      "metadata": {
        "id": "TIKV862DvFzM"
      },
      "execution_count": null,
      "outputs": []
    },
    {
      "cell_type": "code",
      "source": [
        "#Q23 What is the role of Flask’s session object?\n",
        "#    Flask’s session object is used to store and manage user-specific data across multiple requests. It allows data to persist between requests without storing it on the server."
      ],
      "metadata": {
        "id": "tcnlB72Gvogl"
      },
      "execution_count": null,
      "outputs": []
    },
    {
      "cell_type": "markdown",
      "source": [
        "**Practical Question**"
      ],
      "metadata": {
        "id": "WaoVm-y_vxJN"
      }
    },
    {
      "cell_type": "code",
      "source": [
        "#1 How do you create a basic Flask application\n",
        "pip install flask\n",
        "\n",
        "from flask import Flask\n",
        "\n",
        "app = Flask(__name__)\n",
        "\n",
        "@app.route('/')\n",
        "def home():\n",
        "    return \"Hello, Flask!\"\n",
        "\n",
        "if __name__ == '__main__':\n",
        "    app.run(debug=True)\n",
        "\n",
        "\n",
        "python app.py #Run the Flask Application\n",
        "\n",
        "\n",
        "@app.route('/about')  #Adding More Routes\n",
        "def about():\n",
        "    return \"This is the About page\"\n",
        "\n"
      ],
      "metadata": {
        "id": "u2q2u10vw4OA"
      },
      "execution_count": null,
      "outputs": []
    },
    {
      "cell_type": "code",
      "source": [
        "#Q2 How do you serve static files like images or CSS in Flask?\n",
        "/your_project\n",
        "    /static\n",
        "        /css\n",
        "            style.css\n",
        "        /images\n",
        "            logo.png\n",
        "        /js\n",
        "            script.js\n",
        "    /templates\n",
        "        index.html\n",
        "    app.py\n",
        "\n",
        "\n",
        "#use the url_for() function to generate the correct path:\n",
        "<link rel=\"stylesheet\" href=\"{{ url_for('static', filename='css/styles.css') }}\">\n",
        "<img src=\"{{ url_for('static', filename='images/logo.png') }}\" alt=\"Logo\">\n",
        "<script src=\"{{ url_for('static', filename='js/script.js') }}\"></script>\n",
        "\n",
        "\n",
        "#get the static file URL in Python:\n",
        "from flask import url_for\n",
        "print(url_for('static', filename='css/styles.css'))\n",
        "\n",
        "\n",
        "#static files specify it in Flask():\n",
        "app = Flask(__name__, static_folder='assets')\n"
      ],
      "metadata": {
        "id": "kXU8A3FoyWvq"
      },
      "execution_count": null,
      "outputs": []
    },
    {
      "cell_type": "code",
      "source": [
        "#3 How do you define different routes with different HTTP methods in Flask?\n",
        "#1. Basic Route with Default Method (GET)\n",
        "from flask import Flask\n",
        "\n",
        "app = Flask(__name__)\n",
        "\n",
        "@app.route('/')\n",
        "def home():\n",
        "    return \"Welcome to the homepage!\"\n",
        "\n",
        "\n",
        "# Route with Multiple HTTP Methods\n",
        "@app.route('/submit', methods=['GET', 'POST'])\n",
        "def submit():\n",
        "    if request.method == 'POST':\n",
        "        return \"Form submitted!\"\n",
        "    return \"Submit your form.\"\n"
      ],
      "metadata": {
        "id": "amhREBOpZ-zE"
      },
      "execution_count": null,
      "outputs": []
    },
    {
      "cell_type": "code",
      "source": [
        "#4How do you render HTML templates in Flask\n",
        "#Create an index.html file inside the templates/ folder:\n",
        "<!DOCTYPE html>\n",
        "<html lang=\"en\">\n",
        "<head>\n",
        "    <meta charset=\"UTF-8\">\n",
        "    <meta name=\"viewport\" content=\"width=device-width, initial-scale=1.0\">\n",
        "    <title>Flask Template Example</title>\n",
        "</head>\n",
        "<body>\n",
        "    <h1>Welcome to My Flask App</h1>\n",
        "    <p>This is a dynamically rendered page.</p>\n",
        "</body>\n",
        "</html>\n",
        "\n",
        "# Rendering the Template in Flask\n",
        "from flask import Flask, render_template\n",
        "\n",
        "app = Flask(__name__)\n",
        "\n",
        "@app.route('/')\n",
        "def home():\n",
        "    return render_template('index.html')\n",
        "\n",
        "if __name__ == '__main__':\n",
        "    app.run(debug=True)\n"
      ],
      "metadata": {
        "id": "D-QKcA7yabMB"
      },
      "execution_count": null,
      "outputs": []
    },
    {
      "cell_type": "code",
      "source": [
        "#5 How can you generate URLs for routes in Flask using url_for?\n",
        " from flask import Flask, url_for\n",
        "\n",
        "app = Flask(__name__)\n",
        "\n",
        "@app.route('/')\n",
        "def home():\n",
        "    return \"Home Page\"\n",
        "\n",
        "@app.route('/about')\n",
        "def about():\n",
        "    return \"About Page\"\n",
        "\n",
        "with app.test_request_context():\n",
        "    print(url_for('home'))   # Output: '/'\n",
        "    print(url_for('about'))  # Output: '/about'\n",
        "\n",
        "\n",
        "#URL with parameter\n",
        "@app.route('/user/<username>')\n",
        "def profile(username):\n",
        "    return f\"Profile of {username}\"\n",
        "\n",
        "with app.test_request_context():\n",
        "    print(url_for('profile', username='John'))  # Output: '/user/John'\n"
      ],
      "metadata": {
        "id": "QC1BlKnqbKFM"
      },
      "execution_count": null,
      "outputs": []
    },
    {
      "cell_type": "code",
      "source": [
        "#6 How do you handle forms in Flask\n",
        "from flask import Flask, render_template, request, redirect, url_for, flash\n",
        "from flask_wtf import FlaskForm\n",
        "from wtforms import StringField, TextAreaField, SubmitField\n",
        "from wtforms.validators import DataRequired\n",
        "from flask_wtf.csrf import CSRFProtect\n",
        "\n",
        "app = Flask(__name__)\n",
        "app.config['SECRET_KEY'] = 'your_secret_key'\n",
        "csrf = CSRFProtect(app)\n",
        "\n",
        "class ContactForm(FlaskForm):\n",
        "    name = StringField('Name', validators=[DataRequired()])\n",
        "    message = TextAreaField('Message', validators=[DataRequired()])\n",
        "    submit = SubmitField('Send')\n",
        "\n",
        "@app.route('/contact', methods=['GET', 'POST'])\n",
        "def contact():\n",
        "    form = ContactForm()\n",
        "    if form.validate_on_submit():\n",
        "        flash(f\"Message received from {form.name.data}\", \"success\")\n",
        "        return redirect(url_for('contact'))\n",
        "    return render_template('contact.html', form=form)\n",
        "\n",
        "if __name__ == '__main__':\n",
        "    app.run(debug=True)\n"
      ],
      "metadata": {
        "id": "b61x2nPQbgBV"
      },
      "execution_count": null,
      "outputs": []
    },
    {
      "cell_type": "code",
      "source": [
        "#7 How can you validate form data in Flask\n",
        "from flask import Flask, render_template, request, redirect, url_for, flash\n",
        "from flask_wtf import FlaskForm\n",
        "from wtforms import StringField, EmailField, IntegerField, SubmitField\n",
        "from wtforms.validators import DataRequired, Email, NumberRange\n",
        "\n",
        "app = Flask(__name__)\n",
        "app.config['SECRET_KEY'] = 'your_secret_key'\n",
        "\n",
        "class MyForm(FlaskForm):\n",
        "    name = StringField('Name', validators=[DataRequired()])\n",
        "    email = EmailField('Email', validators=[DataRequired(), Email()])\n",
        "    age = IntegerField('Age', validators=[DataRequired(), NumberRange(min=18, max=100)])\n",
        "    submit = SubmitField('Submit')\n",
        "\n",
        "@app.route('/form', methods=['GET', 'POST'])\n",
        "def form():\n",
        "    form = MyForm()\n",
        "    if form.validate_on_submit():\n",
        "        flash(f\"Hello {form.name.data}, your data is valid!\", \"success\")\n",
        "        return redirect(url_for('form'))\n",
        "    return render_template('form.html', form=form)\n",
        "\n",
        "if __name__ == '__main__':\n",
        "    app.run(debug=True)\n",
        "\n",
        "\n",
        "#HTML\n",
        "<form method=\"POST\">\n",
        "    {{ form.hidden_tag() }}\n",
        "    {{ form.name.label }} {{ form.name() }} <br>\n",
        "    {{ form.email.label }} {{ form.email() }} <br>\n",
        "    {{ form.age.label }} {{ form.age() }} <br>\n",
        "    {{ form.submit() }}\n",
        "</form>\n",
        "{% for message in get_flashed_messages() %}\n",
        "    <p>{{ message }}</p>\n",
        "{% endfor %}\n"
      ],
      "metadata": {
        "id": "hfH1vAC5c7cU"
      },
      "execution_count": null,
      "outputs": []
    },
    {
      "cell_type": "code",
      "source": [
        "#8 How do you manage sessions in Flask\n",
        "from flask import Flask, session, redirect, url_for, request, render_template\n",
        "\n",
        "app = Flask(__name__)\n",
        "app.config['SECRET_KEY'] = 'your_secret_key'  # Required for session security\n",
        "\n",
        "@app.route('/')\n",
        "def home():\n",
        "    user = session.get('user', 'Guest')\n",
        "    return f\"Hello, {user}! <a href='/login'>Login</a> | <a href='/logout'>Logout</a>\"\n",
        "\n",
        "@app.route('/login', methods=['GET', 'POST'])\n",
        "def login():\n",
        "    if request.method == 'POST':\n",
        "        session['user'] = request.form['username']  # Store username in session\n",
        "        return redirect(url_for('home'))\n",
        "    return render_template('login.html')\n",
        "\n",
        "@app.route('/logout')\n",
        "def logout():\n",
        "    session.pop('user', None)  # Remove user from session\n",
        "    return redirect(url_for('home'))\n",
        "\n",
        "if __name__ == '__main__':\n",
        "    app.run(debug=True)\n",
        "\n",
        "\n",
        "\n",
        "<form method=\"POST\">\n",
        "    <input type=\"text\" name=\"username\" placeholder=\"Enter username\" required>\n",
        "    <button type=\"submit\">Login</button>\n",
        "</form>"
      ],
      "metadata": {
        "id": "FuH-i21ydTGW"
      },
      "execution_count": null,
      "outputs": []
    },
    {
      "cell_type": "code",
      "source": [
        "#9 How do you redirect to a different route in Flask\n",
        "from flask import Flask, redirect, url_for\n",
        "\n",
        "app = Flask(__name__)\n",
        "\n",
        "@app.route('/')\n",
        "def home():\n",
        "    return \"Welcome to Home! <a href='/redirect-me'>Go to Dashboard</a>\"\n",
        "\n",
        "@app.route('/redirect-me')\n",
        "def go_to_dashboard():\n",
        "    return redirect(url_for('dashboard'))  # Redirecting to 'dashboard' route\n",
        "\n",
        "@app.route('/dashboard')\n",
        "def dashboard():\n",
        "    return \"Welcome to the Dashboard!\"\n",
        "\n",
        "if __name__ == '__main__':\n",
        "    app.run(debug=True)\n"
      ],
      "metadata": {
        "id": "jymGzfZcdqkn"
      },
      "execution_count": null,
      "outputs": []
    },
    {
      "cell_type": "code",
      "source": [
        "#10  How do you handle errors in Flask (e.g., 404)\n",
        "from flask import Flask, render_template\n",
        "\n",
        "app = Flask(__name__)\n",
        "\n",
        "@app.route('/')\n",
        "def home():\n",
        "    return \"Welcome to Home!\"\n",
        "\n",
        "@app.errorhandler(404)\n",
        "def not_found(error):\n",
        "    return render_template('404.html'), 404  # Custom 404 error page\n",
        "\n",
        "if __name__ == '__main__':\n",
        "    app.run(debug=True)\n",
        "\n",
        "\n",
        "#Custom 404 Page (templates/404.html)\n",
        "<!DOCTYPE html>\n",
        "<html lang=\"en\">\n",
        "<head>\n",
        "    <title>Page Not Found</title>\n",
        "</head>\n",
        "<body>\n",
        "    <h1>404 - Page Not Found</h1>\n",
        "    <p>Oops! The page you are looking for does not exist.</p>\n",
        "    <a href=\"{{ url_for('home') }}\">Go Home</a>\n",
        "</body>\n",
        "</html>\n"
      ],
      "metadata": {
        "id": "vjKEDW1oftRZ"
      },
      "execution_count": null,
      "outputs": []
    },
    {
      "cell_type": "code",
      "source": [
        "#11 How do you structure a Flask app using Blueprints\n",
        "/flask_app\n",
        "  /blueprints\n",
        "    __init__.py\n",
        "    user_routes.py\n",
        "  /templates\n",
        "    home.html\n",
        "    user.html\n",
        "  app.py\n",
        "\n",
        "\n",
        "#Create a Blueprint (blueprints/user_routes.py)\n",
        "from flask import Blueprint, render_template\n",
        "\n",
        "user_bp = Blueprint('user', __name__, url_prefix='/user')\n",
        "\n",
        "@user_bp.route('/<username>')\n",
        "def profile(username):\n",
        "    return render_template('user.html', username=username)\n"
      ],
      "metadata": {
        "id": "w8f9EGWfgToh"
      },
      "execution_count": null,
      "outputs": []
    },
    {
      "cell_type": "code",
      "source": [
        "#12 M How do you define a custom Jinja filter in Flask?\n",
        "\n",
        "from flask import Flask, render_template\n",
        "\n",
        "app = Flask(__name__)\n",
        "\n",
        "# Custom Jinja filter: Reverse a string\n",
        "def reverse_string(s):\n",
        "    return s[::-1]\n",
        "\n",
        "# Register the filter with Flask\n",
        "app.jinja_env.filters['reverse'] = reverse_string\n",
        "\n",
        "@app.route('/')\n",
        "def home():\n",
        "    return render_template('index.html', name=\"Flask\")\n",
        "\n",
        "if __name__ == '__main__':\n",
        "    app.run(debug=True)\n"
      ],
      "metadata": {
        "id": "10HJbfm6gf3N"
      },
      "execution_count": null,
      "outputs": []
    },
    {
      "cell_type": "code",
      "source": [
        "#13 How can you redirect with query parameters in Flask\n",
        "from flask import Flask, redirect, url_for, request\n",
        "\n",
        "app = Flask(__name__)\n",
        "\n",
        "@app.route('/')\n",
        "def home():\n",
        "    return \"Welcome to Home! <a href='/go'>Go to Dashboard</a>\"\n",
        "\n",
        "@app.route('/go')\n",
        "def go():\n",
        "    return redirect(url_for('dashboard', user='John', role='admin'))  # Redirect with query params\n",
        "\n",
        "@app.route('/dashboard')\n",
        "def dashboard():\n",
        "    user = request.args.get('user')\n",
        "    role = request.args.get('role')\n",
        "    return f\"Welcome {user}! Your role is {role}.\"\n",
        "\n",
        "if __name__ == '__main__':\n",
        "    app.run(debug=True)\n"
      ],
      "metadata": {
        "id": "FjZCQGvng624"
      },
      "execution_count": null,
      "outputs": []
    },
    {
      "cell_type": "code",
      "source": [
        "#14 How do you return JSON responses in Flask\n",
        "from flask import Flask, jsonify\n",
        "\n",
        "app = Flask(__name__)\n",
        "\n",
        "@app.route('/api/user')\n",
        "def get_user():\n",
        "    user_data = {\"name\": \"John Doe\", \"age\": 30, \"email\": \"john@example.com\"}\n",
        "    return jsonify(user_data)  # Convert dictionary to JSON response\n",
        "\n",
        "if __name__ == '__main__':\n",
        "    app.run(debug=True)\n"
      ],
      "metadata": {
        "id": "WEj32YxQhEpn"
      },
      "execution_count": null,
      "outputs": []
    },
    {
      "cell_type": "code",
      "source": [
        "#15 How do you capture URL parameters in Flask?\n",
        "from flask import Flask\n",
        "\n",
        "app = Flask(__name__)\n",
        "\n",
        "@app.route('/user/<string:username>/age/<int:age>')  # Capture parameters\n",
        "def user_profile(username, age):\n",
        "    return f\"User: {username}, Age: {age}\"\n",
        "\n",
        "if __name__ == '__main__':\n",
        "    app.run(debug=True)\n"
      ],
      "metadata": {
        "id": "WrCKOtIXhLYi"
      },
      "execution_count": null,
      "outputs": []
    }
  ]
}